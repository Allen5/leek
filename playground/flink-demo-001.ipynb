{
 "cells": [
  {
   "cell_type": "code",
   "execution_count": 17,
   "metadata": {},
   "outputs": [
    {
     "name": "stdout",
     "output_type": "stream",
     "text": [
      "1> (world,1)\n",
      "9> (python,1)\n",
      "7> (hello,1)\n",
      "7> (hello,2)\n",
      "7> (hello,3)\n",
      "3> (flink,1)\n"
     ]
    },
    {
     "data": {
      "text/plain": [
       "<pyflink.common.job_execution_result.JobExecutionResult at 0x13d854c90>"
      ]
     },
     "execution_count": 17,
     "metadata": {},
     "output_type": "execute_result"
    }
   ],
   "source": [
    "# 初始化pyflink环境\n",
    "from pyflink.datastream import StreamExecutionEnvironment\n",
    "from pyflink.common import Types\n",
    "env = StreamExecutionEnvironment.get_execution_environment()\n",
    "\n",
    "text = env.from_collection([\"hello world\", \"hello flink\", \"hello python\"])\n",
    "words = text.flat_map(lambda x: x.split(\" \"))\n",
    "words = words.map(lambda x: (x, 1), output_type=Types.TUPLE([Types.STRING(), Types.INT()]))\n",
    "words = words.key_by(lambda x: x[0]).sum(1)\n",
    "words.print()\n",
    "\n",
    "env.execute()"
   ]
  }
 ],
 "metadata": {
  "kernelspec": {
   "display_name": "Leek",
   "language": "python",
   "name": "python3"
  },
  "language_info": {
   "codemirror_mode": {
    "name": "ipython",
    "version": 3
   },
   "file_extension": ".py",
   "mimetype": "text/x-python",
   "name": "python",
   "nbconvert_exporter": "python",
   "pygments_lexer": "ipython3",
   "version": "3.11.10"
  }
 },
 "nbformat": 4,
 "nbformat_minor": 2
}
